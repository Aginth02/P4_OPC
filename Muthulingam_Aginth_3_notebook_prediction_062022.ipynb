{
 "cells": [
  {
   "cell_type": "markdown",
   "metadata": {
    "ExecuteTime": {
     "end_time": "2022-06-19T20:20:59.534139Z",
     "start_time": "2022-06-19T20:20:59.505134Z"
    }
   },
   "source": [
    "Travail réalisé par Aginth Muthulingam "
   ]
  },
  {
   "cell_type": "markdown",
   "metadata": {},
   "source": [
    "## Chargement des modules"
   ]
  },
  {
   "cell_type": "code",
   "execution_count": 38,
   "metadata": {
    "ExecuteTime": {
     "end_time": "2022-06-22T18:56:53.203106Z",
     "start_time": "2022-06-22T18:56:53.187087Z"
    }
   },
   "outputs": [],
   "source": [
    "import pandas as pd\n",
    "import numpy as np\n",
    "import random\n",
    "import re\n",
    "import seaborn as sns\n",
    "import plotly\n",
    "import matplotlib.pyplot as plt\n",
    "pd.options.mode.chained_assignment = None  # default='warn'\n",
    "from function import *\n",
    "\n",
    "\n",
    "from sklearn.impute import KNNImputer \n",
    "from sklearn.preprocessing import LabelEncoder, LabelBinarizer, OrdinalEncoder, OneHotEncoder\n",
    "from sklearn.model_selection import train_test_split, GridSearchCV , cross_validate\n",
    "from sklearn.compose import make_column_selector, make_column_transformer , ColumnTransformer\n",
    "from category_encoders import *\n",
    "from sklearn.pipeline import make_pipeline, Pipeline\n",
    "from sklearn.preprocessing import StandardScaler, OneHotEncoder\n",
    "\n",
    "from sklearn import linear_model , metrics\n",
    "from sklearn.ensemble import RandomForestRegressor\n",
    "from sklearn.neighbors import KNeighborsRegressor \n",
    "from sklearn.ensemble import AdaBoostRegressor\n",
    "from sklearn.neural_network import MLPRegressor\n",
    "from sklearn.dummy import DummyRegressor\n",
    "\n",
    "from sklearn.inspection import permutation_importance\n",
    "from sklearn.metrics import mean_squared_error , mean_absolute_error, r2_score"
   ]
  },
  {
   "cell_type": "markdown",
   "metadata": {
    "ExecuteTime": {
     "end_time": "2022-06-19T20:15:35.018884Z",
     "start_time": "2022-06-19T20:15:34.954027Z"
    }
   },
   "source": [
    "## Chargement base de données"
   ]
  },
  {
   "cell_type": "code",
   "execution_count": 39,
   "metadata": {
    "ExecuteTime": {
     "end_time": "2022-06-22T18:56:55.515043Z",
     "start_time": "2022-06-22T18:56:55.483044Z"
    }
   },
   "outputs": [],
   "source": [
    "df_clean = pd.read_csv('dataset_cleane.csv')\n",
    "df_clean = df_clean.drop(['SiteEnergyUseWN(kBtu)_log'],axis=1)"
   ]
  },
  {
   "cell_type": "markdown",
   "metadata": {
    "heading_collapsed": true
   },
   "source": [
    "## Skewness"
   ]
  },
  {
   "cell_type": "markdown",
   "metadata": {
    "hidden": true
   },
   "source": [
    "Nous avons une skewness relativement élévé pour plusieurs variable , il serait donc judicieux de les passer au log les variable ayant une skewness > 2 afin de voir si cela peut améliorer la performance de nos modèles "
   ]
  },
  {
   "cell_type": "code",
   "execution_count": 41,
   "metadata": {
    "ExecuteTime": {
     "end_time": "2022-06-22T18:57:00.179614Z",
     "start_time": "2022-06-22T18:57:00.131648Z"
    },
    "hidden": true
   },
   "outputs": [
    {
     "data": {
      "text/plain": [
       "PropertyUseType__Wholesale Club/Supercenter               32.603681\n",
       "PropertyUseType__Convenience Store without Gas Station    32.603681\n",
       "PropertyUseType__Other - Education                        32.603681\n",
       "PropertyUseType__Other - Recreation                       32.603681\n",
       "PropertyUseType__Manufacturing/Industrial Plant           32.603681\n",
       "PropertyUseType__Other - Restaurant/Bar                   32.603681\n",
       "PropertyUseType__Self-Storage Facility                    32.603681\n",
       "PropertyUseType__Pre-school/Daycare                       32.603681\n",
       "PropertyUseType__Performing Arts                          32.603681\n",
       "PropertyUseType__Bar/Nightclub                            32.603681\n",
       "PropertyUseType__Other - Services                         32.603681\n",
       "PropertyUseType__College/University                       32.603681\n",
       "PropertyUseType__Courthouse                               32.603681\n",
       "PropertyUseType__Adult Education                          32.603681\n",
       "PropertyUseType__Other - Entertainment/Public Assembly    32.603681\n",
       "PropertyUseType__Data Center                              19.937684\n",
       "PropertyUseType__Laboratory                               16.467321\n",
       "PropertyUseType__Hospital (General Medical & Surgical)    16.246172\n",
       "PropertyUseType__Financial Office                         15.825996\n",
       "PropertyUseType__Refrigerated Warehouse                   14.929096\n",
       "PropertyUseType__Multifamily Housing                      11.524946\n",
       "PropertyUseType__Bank Branch                              10.910637\n",
       "PropertyUseType__Restaurant                               10.267088\n",
       "PropertyUseType__Other                                     7.938608\n",
       "PropertyUseType__Senior Care Community                     7.535095\n",
       "PropertyUseType__Residence Hall/Dormitory                  7.519540\n",
       "PropertyUseType__Medical Office                            5.211546\n",
       "PropertyUseType__Supermarket/Grocery Store                 4.730484\n",
       "PropertyUseType__Distribution Center                       4.709541\n",
       "PropertyUseType__Worship Facility                          3.820279\n",
       "PropertyUseType__Hotel                                     3.587501\n",
       "PropertyUseType__Retail Store                              2.602135\n",
       "PropertyUseType__K-12 School                               2.466058\n",
       "PropertyUseType__Non-Refrigerated Warehouse                2.027365\n",
       "PropertyUseType__Parking                                   1.553856\n",
       "PropertyGFAParking                                         1.354048\n",
       "NumberofFloors                                             1.208207\n",
       "PropertyUseType__no information                            0.931188\n",
       "PropertyGFABuilding(s)                                     0.898584\n",
       "PropertyGFATotal                                           0.886286\n",
       "PropertyUseType__Office                                    0.757430\n",
       "Age                                                        0.390149\n",
       "Latitude                                                   0.205559\n",
       "PropertyUseType__Swimming Pool                             0.000000\n",
       "Longitude                                                 -0.003853\n",
       "TotalGHGEmissions_log                                     -0.017664\n",
       "CouncilDistrictCode                                       -0.037538\n",
       "ENERGYSTARScore                                           -0.782048\n",
       "NumberofBuildings                                         -2.178760\n",
       "dtype: float64"
      ]
     },
     "execution_count": 41,
     "metadata": {},
     "output_type": "execute_result"
    }
   ],
   "source": [
    "df_clean_log = log_transform (df_clean)\n",
    "df_clean_log.skew(axis = 0, skipna = True).sort_values(ascending=False)"
   ]
  },
  {
   "cell_type": "markdown",
   "metadata": {
    "ExecuteTime": {
     "end_time": "2022-05-19T14:13:11.460583Z",
     "start_time": "2022-05-19T14:13:11.452583Z"
    }
   },
   "source": [
    "## Modélisation "
   ]
  },
  {
   "cell_type": "markdown",
   "metadata": {},
   "source": [
    "la variable qu'on souhaite prédire est :\n",
    "- TotalGHGEmissions_log"
   ]
  },
  {
   "cell_type": "markdown",
   "metadata": {},
   "source": [
    "### Mise en place des modèles "
   ]
  },
  {
   "cell_type": "code",
   "execution_count": 42,
   "metadata": {
    "ExecuteTime": {
     "end_time": "2022-06-22T18:57:06.000738Z",
     "start_time": "2022-06-22T18:57:05.984731Z"
    }
   },
   "outputs": [],
   "source": [
    "# Features : all columns, except targets\n",
    "X = df_clean.copy().drop(columns=['TotalGHGEmissions_log','ENERGYSTARScore'])\n",
    "X_log = df_clean_log.copy().drop(columns=['TotalGHGEmissions_log','ENERGYSTARScore']) \n",
    "\n",
    "cible2 = 'TotalGHGEmissions_log'\n",
    "\n",
    "y = df_clean.copy()[cible2]\n",
    "y_log = df_clean_log.copy()[cible2]"
   ]
  },
  {
   "cell_type": "code",
   "execution_count": 43,
   "metadata": {
    "ExecuteTime": {
     "end_time": "2022-06-22T18:57:12.754981Z",
     "start_time": "2022-06-22T18:57:12.738982Z"
    }
   },
   "outputs": [],
   "source": [
    "numerical_feature = make_column_selector(dtype_include=np.number)\n",
    "categorical_feature = make_column_selector(dtype_exclude=np.number)"
   ]
  },
  {
   "cell_type": "code",
   "execution_count": 44,
   "metadata": {
    "ExecuteTime": {
     "end_time": "2022-06-22T18:57:15.034986Z",
     "start_time": "2022-06-22T18:57:15.019015Z"
    }
   },
   "outputs": [],
   "source": [
    "numeric_transformer = Pipeline(steps=[('scaler', StandardScaler())])\n",
    "categorical_transformer = Pipeline(steps=[('onehot', OneHotEncoder(handle_unknown='ignore'))])"
   ]
  },
  {
   "cell_type": "code",
   "execution_count": 45,
   "metadata": {
    "ExecuteTime": {
     "end_time": "2022-06-22T18:57:17.315707Z",
     "start_time": "2022-06-22T18:57:17.307751Z"
    }
   },
   "outputs": [],
   "source": [
    "preprocessor = ColumnTransformer(transformers=[('num', numeric_transformer, numerical_feature),\n",
    "                                               ('cat', categorical_transformer, categorical_feature)])"
   ]
  },
  {
   "cell_type": "code",
   "execution_count": 46,
   "metadata": {
    "ExecuteTime": {
     "end_time": "2022-06-22T18:57:19.835709Z",
     "start_time": "2022-06-22T18:57:19.819739Z"
    }
   },
   "outputs": [],
   "source": [
    "#baseline \n",
    "dummy = Pipeline(steps=[('prepa',preprocessor),('dummy',DummyRegressor())])\n",
    "\n",
    "# Modele à tester\n",
    "\n",
    "linear = Pipeline(steps=[('prepa',preprocessor),('linear',linear_model.LinearRegression())])\n",
    "KNN = Pipeline(steps=[('prepa',preprocessor),('kNN',KNeighborsRegressor())])\n",
    "\n",
    "forest = Pipeline(steps=[('prepa',preprocessor),('forest',RandomForestRegressor(random_state=0))])\n",
    "ADA = Pipeline(steps=[('prepa',preprocessor),('ADA',AdaBoostRegressor(random_state=0,))])\n",
    "MLPr = Pipeline(steps=[('prepa',preprocessor),('MLPr',MLPRegressor(random_state=0,max_iter=10000))])"
   ]
  },
  {
   "cell_type": "code",
   "execution_count": 47,
   "metadata": {
    "ExecuteTime": {
     "end_time": "2022-06-22T18:57:22.227878Z",
     "start_time": "2022-06-22T18:57:22.211817Z"
    }
   },
   "outputs": [],
   "source": [
    "ls_model = [dummy,linear,KNN,forest,ADA,MLPr]\n",
    "dico_model = {0: \"dummy\", 1: \"lr\",2:'KNN',3:'forest',4:'adaboost',5:\"Multi Layer Perceptron\"}"
   ]
  },
  {
   "cell_type": "markdown",
   "metadata": {
    "ExecuteTime": {
     "end_time": "2022-06-03T13:07:05.309718Z",
     "start_time": "2022-06-03T13:07:05.293718Z"
    },
    "heading_collapsed": true
   },
   "source": [
    "### Comparaison avec variables normal vs variables log"
   ]
  },
  {
   "cell_type": "code",
   "execution_count": 48,
   "metadata": {
    "ExecuteTime": {
     "end_time": "2022-06-22T18:57:56.337968Z",
     "start_time": "2022-06-22T18:57:26.383352Z"
    },
    "hidden": true
   },
   "outputs": [],
   "source": [
    "analyse_un = analyse_modele (X,y,ls_model,dico_model)\n",
    "analyse_un_log = analyse_modele (X_log,y_log,ls_model,dico_model)"
   ]
  },
  {
   "cell_type": "code",
   "execution_count": 49,
   "metadata": {
    "ExecuteTime": {
     "end_time": "2022-06-22T18:57:58.802303Z",
     "start_time": "2022-06-22T18:57:58.786285Z"
    },
    "hidden": true
   },
   "outputs": [
    {
     "data": {
      "text/html": [
       "<div>\n",
       "<style scoped>\n",
       "    .dataframe tbody tr th:only-of-type {\n",
       "        vertical-align: middle;\n",
       "    }\n",
       "\n",
       "    .dataframe tbody tr th {\n",
       "        vertical-align: top;\n",
       "    }\n",
       "\n",
       "    .dataframe thead th {\n",
       "        text-align: right;\n",
       "    }\n",
       "</style>\n",
       "<table border=\"1\" class=\"dataframe\">\n",
       "  <thead>\n",
       "    <tr style=\"text-align: right;\">\n",
       "      <th></th>\n",
       "      <th>RMSE</th>\n",
       "      <th>MAE</th>\n",
       "      <th>R2</th>\n",
       "    </tr>\n",
       "  </thead>\n",
       "  <tbody>\n",
       "    <tr>\n",
       "      <th>dummy</th>\n",
       "      <td>1.390852</td>\n",
       "      <td>1.130045</td>\n",
       "      <td>-0.441166</td>\n",
       "    </tr>\n",
       "    <tr>\n",
       "      <th>lr</th>\n",
       "      <td>126.295637</td>\n",
       "      <td>72.105794</td>\n",
       "      <td>-24210.560723</td>\n",
       "    </tr>\n",
       "    <tr>\n",
       "      <th>KNN</th>\n",
       "      <td>1.114956</td>\n",
       "      <td>0.877215</td>\n",
       "      <td>0.082778</td>\n",
       "    </tr>\n",
       "    <tr>\n",
       "      <th>forest</th>\n",
       "      <td>0.899496</td>\n",
       "      <td>0.711367</td>\n",
       "      <td>0.403943</td>\n",
       "    </tr>\n",
       "    <tr>\n",
       "      <th>adaboost</th>\n",
       "      <td>0.979836</td>\n",
       "      <td>0.806152</td>\n",
       "      <td>0.297514</td>\n",
       "    </tr>\n",
       "    <tr>\n",
       "      <th>Multi Layer Perceptron</th>\n",
       "      <td>1.050659</td>\n",
       "      <td>0.814500</td>\n",
       "      <td>0.195088</td>\n",
       "    </tr>\n",
       "  </tbody>\n",
       "</table>\n",
       "</div>"
      ],
      "text/plain": [
       "                              RMSE        MAE            R2\n",
       "dummy                     1.390852   1.130045     -0.441166\n",
       "lr                      126.295637  72.105794 -24210.560723\n",
       "KNN                       1.114956   0.877215      0.082778\n",
       "forest                    0.899496   0.711367      0.403943\n",
       "adaboost                  0.979836   0.806152      0.297514\n",
       "Multi Layer Perceptron    1.050659   0.814500      0.195088"
      ]
     },
     "execution_count": 49,
     "metadata": {},
     "output_type": "execute_result"
    }
   ],
   "source": [
    "analyse_un"
   ]
  },
  {
   "cell_type": "code",
   "execution_count": 50,
   "metadata": {
    "ExecuteTime": {
     "end_time": "2022-06-22T18:58:01.266955Z",
     "start_time": "2022-06-22T18:58:01.250954Z"
    },
    "hidden": true
   },
   "outputs": [
    {
     "data": {
      "text/html": [
       "<div>\n",
       "<style scoped>\n",
       "    .dataframe tbody tr th:only-of-type {\n",
       "        vertical-align: middle;\n",
       "    }\n",
       "\n",
       "    .dataframe tbody tr th {\n",
       "        vertical-align: top;\n",
       "    }\n",
       "\n",
       "    .dataframe thead th {\n",
       "        text-align: right;\n",
       "    }\n",
       "</style>\n",
       "<table border=\"1\" class=\"dataframe\">\n",
       "  <thead>\n",
       "    <tr style=\"text-align: right;\">\n",
       "      <th></th>\n",
       "      <th>RMSE</th>\n",
       "      <th>MAE</th>\n",
       "      <th>R2</th>\n",
       "    </tr>\n",
       "  </thead>\n",
       "  <tbody>\n",
       "    <tr>\n",
       "      <th>dummy</th>\n",
       "      <td>1.390852</td>\n",
       "      <td>1.130045</td>\n",
       "      <td>-0.441166</td>\n",
       "    </tr>\n",
       "    <tr>\n",
       "      <th>lr</th>\n",
       "      <td>37.459953</td>\n",
       "      <td>23.794542</td>\n",
       "      <td>-2168.015564</td>\n",
       "    </tr>\n",
       "    <tr>\n",
       "      <th>KNN</th>\n",
       "      <td>1.037817</td>\n",
       "      <td>0.817111</td>\n",
       "      <td>0.205443</td>\n",
       "    </tr>\n",
       "    <tr>\n",
       "      <th>forest</th>\n",
       "      <td>0.899328</td>\n",
       "      <td>0.711093</td>\n",
       "      <td>0.404227</td>\n",
       "    </tr>\n",
       "    <tr>\n",
       "      <th>adaboost</th>\n",
       "      <td>0.983600</td>\n",
       "      <td>0.813147</td>\n",
       "      <td>0.292406</td>\n",
       "    </tr>\n",
       "    <tr>\n",
       "      <th>Multi Layer Perceptron</th>\n",
       "      <td>0.901695</td>\n",
       "      <td>0.718799</td>\n",
       "      <td>0.402057</td>\n",
       "    </tr>\n",
       "  </tbody>\n",
       "</table>\n",
       "</div>"
      ],
      "text/plain": [
       "                             RMSE        MAE           R2\n",
       "dummy                    1.390852   1.130045    -0.441166\n",
       "lr                      37.459953  23.794542 -2168.015564\n",
       "KNN                      1.037817   0.817111     0.205443\n",
       "forest                   0.899328   0.711093     0.404227\n",
       "adaboost                 0.983600   0.813147     0.292406\n",
       "Multi Layer Perceptron   0.901695   0.718799     0.402057"
      ]
     },
     "execution_count": 50,
     "metadata": {},
     "output_type": "execute_result"
    }
   ],
   "source": [
    "analyse_un_log"
   ]
  },
  {
   "cell_type": "markdown",
   "metadata": {
    "hidden": true
   },
   "source": [
    "lr semble trop incohérent"
   ]
  },
  {
   "cell_type": "code",
   "execution_count": 51,
   "metadata": {
    "ExecuteTime": {
     "end_time": "2022-06-22T18:58:03.730983Z",
     "start_time": "2022-06-22T18:58:03.722984Z"
    },
    "hidden": true
   },
   "outputs": [],
   "source": [
    "analyse_un.drop('lr',inplace=True)\n",
    "analyse_un_log.drop('lr',inplace=True)\n"
   ]
  },
  {
   "cell_type": "code",
   "execution_count": 52,
   "metadata": {
    "ExecuteTime": {
     "end_time": "2022-06-22T18:58:06.635884Z",
     "start_time": "2022-06-22T18:58:06.275772Z"
    },
    "hidden": true
   },
   "outputs": [
    {
     "data": {
      "image/png": "[encoded data removed]",
      "text/plain": [
       "<Figure size 432x288 with 1 Axes>"
      ]
     },
     "metadata": {
      "needs_background": "light"
     },
     "output_type": "display_data"
    },
    {
     "data": {
      "image/png": "[encoded data removed]",
      "text/plain": [
       "<Figure size 432x288 with 1 Axes>"
      ]
     },
     "metadata": {
      "needs_background": "light"
     },
     "output_type": "display_data"
    },
    {
     "data": {
      "image/png": "[encoded data removed]",
      "text/plain": [
       "<Figure size 432x288 with 1 Axes>"
      ]
     },
     "metadata": {
      "needs_background": "light"
     },
     "output_type": "display_data"
    }
   ],
   "source": [
    "for i in analyse_un.columns : \n",
    "    plot_metrics1 (analyse_un,analyse_un_log,i)"
   ]
  },
  {
   "cell_type": "markdown",
   "metadata": {
    "ExecuteTime": {
     "end_time": "2022-06-03T13:10:26.987425Z",
     "start_time": "2022-06-03T13:10:26.971347Z"
    }
   },
   "source": [
    "### Recherche hyperparamètres modèles"
   ]
  },
  {
   "cell_type": "code",
   "execution_count": 16,
   "metadata": {
    "ExecuteTime": {
     "end_time": "2022-06-22T18:13:45.439652Z",
     "start_time": "2022-06-22T18:13:45.423610Z"
    },
    "code_folding": []
   },
   "outputs": [],
   "source": [
    "# On splite les données \n",
    "X_train, X_test, y_train, y_test = train_test_split(X_log, y,test_size=0.2,random_state=0)"
   ]
  },
  {
   "cell_type": "markdown",
   "metadata": {
    "ExecuteTime": {
     "end_time": "2022-06-03T21:31:05.065642Z",
     "start_time": "2022-06-03T21:31:05.057641Z"
    },
    "heading_collapsed": true
   },
   "source": [
    "#### Random Forest"
   ]
  },
  {
   "cell_type": "code",
   "execution_count": null,
   "metadata": {
    "ExecuteTime": {
     "end_time": "2022-06-22T16:42:02.815802Z",
     "start_time": "2022-06-22T14:18:31.296773Z"
    },
    "code_folding": [],
    "hidden": true
   },
   "outputs": [],
   "source": [
    "params_forest = {\"forest__n_estimators\" : list(np.arange(120,140)),\n",
    "                 'forest__min_samples_leaf': list(np.arange(1,5)),\n",
    "                 'forest__max_depth' : list(np.arange(5,20))\n",
    "}\n",
    "\n",
    "forest_cv = GridSearchCV(forest,params_forest,cv=7)\n",
    "forest_cv = forest_cv.fit (X_train, y_train)\n",
    "\n",
    "print(\"Best Parameters: {}\".format(forest_cv.best_params_))\n",
    "print(\"Best score: {}\".format(forest_cv.best_score_))"
   ]
  },
  {
   "cell_type": "code",
   "execution_count": 54,
   "metadata": {
    "ExecuteTime": {
     "end_time": "2022-06-22T18:59:21.259358Z",
     "start_time": "2022-06-22T18:59:09.218144Z"
    },
    "hidden": true
   },
   "outputs": [
    {
     "data": {
      "text/plain": [
       "[0.8844203602611315, 0.6989304588340259, 0.40481623162926855]"
      ]
     },
     "execution_count": 54,
     "metadata": {},
     "output_type": "execute_result"
    }
   ],
   "source": [
    "forest_max = Pipeline(steps=[('prepa',preprocessor),('forest',RandomForestRegressor(n_estimators=125, max_depth =14,\n",
    "                                                                               min_samples_leaf=1\n",
    "                                                                              ))])\n",
    "\n",
    "score = cross_validate(forest_max,X_log,y,cv=7,scoring=('neg_root_mean_squared_error','neg_mean_absolute_error','r2'))\n",
    "rmse_forest = -score['test_neg_root_mean_squared_error'].mean()\n",
    "r2_forest = score['test_r2'].mean()\n",
    "msa_forest = -score['test_neg_mean_absolute_error'].mean()\n",
    "\n",
    "result_forest = [rmse_forest,msa_forest,r2_forest]\n",
    "result_forest "
   ]
  },
  {
   "cell_type": "markdown",
   "metadata": {
    "ExecuteTime": {
     "end_time": "2022-06-03T21:34:39.164786Z",
     "start_time": "2022-06-03T21:34:39.156780Z"
    },
    "heading_collapsed": true
   },
   "source": [
    "#### KNN"
   ]
  },
  {
   "cell_type": "code",
   "execution_count": null,
   "metadata": {
    "ExecuteTime": {
     "end_time": "2022-06-21T22:32:23.518201Z",
     "start_time": "2022-06-21T22:29:18.917199Z"
    },
    "hidden": true
   },
   "outputs": [],
   "source": [
    "params_kNN = {\"kNN__n_neighbors\" : list(np.arange(3,20)),\n",
    "              'kNN__leaf_size' : list(np.arange(1,40)),\n",
    "              'kNN__p' : [1,2]\n",
    "}\n",
    "\n",
    "kNN_cv = GridSearchCV(KNN,params_kNN,cv=4)\n",
    "kNN_cv = kNN_cv.fit (X_train, y_train)\n",
    "\n",
    "print(\"Best Parameters: {}\".format(kNN_cv.best_params_))\n",
    "print(\"Best score: {}\".format(kNN_cv.best_score_))\n",
    "\n"
   ]
  },
  {
   "cell_type": "code",
   "execution_count": 55,
   "metadata": {
    "ExecuteTime": {
     "end_time": "2022-06-22T18:59:29.203590Z",
     "start_time": "2022-06-22T18:59:29.067629Z"
    },
    "hidden": true
   },
   "outputs": [
    {
     "data": {
      "text/plain": [
       "[1.0294633665255488, 0.8159505916402888, 0.21735262841398956]"
      ]
     },
     "execution_count": 55,
     "metadata": {},
     "output_type": "execute_result"
    }
   ],
   "source": [
    "kNN_max = Pipeline(steps=[('prepa',preprocessor),('kNN',KNeighborsRegressor(n_neighbors=12, p =1,\n",
    "                                                                            leaf_size=1\n",
    "                                                                              ))])\n",
    "\n",
    "score = cross_validate(kNN_max,X_log,y,cv=4,scoring=('neg_root_mean_squared_error','neg_mean_absolute_error','r2'))\n",
    "rmse_knn = -score['test_neg_root_mean_squared_error'].mean()\n",
    "r2_knn = score['test_r2'].mean()\n",
    "msa_knn = -score['test_neg_mean_absolute_error'].mean()\n",
    "\n",
    "result_knn = [rmse_knn,msa_knn,r2_knn]\n",
    "result_knn"
   ]
  },
  {
   "cell_type": "markdown",
   "metadata": {
    "ExecuteTime": {
     "end_time": "2022-06-03T21:31:31.258463Z",
     "start_time": "2022-06-03T21:31:31.242433Z"
    },
    "heading_collapsed": true
   },
   "source": [
    "#### Adaboost"
   ]
  },
  {
   "cell_type": "code",
   "execution_count": null,
   "metadata": {
    "ExecuteTime": {
     "end_time": "2022-06-21T22:34:35.085820Z",
     "start_time": "2022-06-21T22:32:27.664141Z"
    },
    "hidden": true
   },
   "outputs": [],
   "source": [
    "params_ADA={\"ADA__n_estimators\" : list(np.arange(1,80)),\n",
    "            \"ADA__loss\" : ['linear', 'square', 'exponential']   \n",
    "}\n",
    "\n",
    "ADA_cv = GridSearchCV(ADA, params_ADA, cv =4)\n",
    "ADA_cv = ADA_cv.fit (X_train, y_train)\n",
    "\n",
    "print(\"Best Parameters: {}\".format(ADA_cv.best_params_))\n",
    "print(\"Best score: {}\".format(ADA_cv.best_score_))\n",
    "\n",
    "#Temps = 38min "
   ]
  },
  {
   "cell_type": "code",
   "execution_count": 56,
   "metadata": {
    "ExecuteTime": {
     "end_time": "2022-06-22T18:59:32.435985Z",
     "start_time": "2022-06-22T18:59:31.851949Z"
    },
    "hidden": true
   },
   "outputs": [
    {
     "data": {
      "text/plain": [
       "[0.9872158720576963, 0.8169065230279283, 0.2876142433658432]"
      ]
     },
     "execution_count": 56,
     "metadata": {},
     "output_type": "execute_result"
    }
   ],
   "source": [
    "ADA_max = Pipeline(steps=[('prepa',preprocessor),('ADA',AdaBoostRegressor(n_estimators = 43, loss = 'linear', \n",
    "                                                                          random_state=0,))])\n",
    "score = cross_validate(ADA_max,X_log,y,cv=4,scoring=('neg_root_mean_squared_error','neg_mean_absolute_error','r2'))\n",
    "rmse_ada = -score['test_neg_root_mean_squared_error'].mean()\n",
    "r2_ada = score['test_r2'].mean()\n",
    "msa_ada = -score['test_neg_mean_absolute_error'].mean()\n",
    "\n",
    "result_ada = [rmse_ada,msa_ada,r2_ada]\n",
    "result_ada"
   ]
  },
  {
   "cell_type": "markdown",
   "metadata": {},
   "source": [
    "#### Multi Layer Perceptron"
   ]
  },
  {
   "cell_type": "code",
   "execution_count": 75,
   "metadata": {
    "ExecuteTime": {
     "end_time": "2022-06-22T20:31:50.702962Z",
     "start_time": "2022-06-22T20:12:10.253580Z"
    },
    "scrolled": true
   },
   "outputs": [
    {
     "name": "stdout",
     "output_type": "stream",
     "text": [
      "Best Parameters: {'MLPr__activation': 'logistic', 'MLPr__hidden_layer_sizes': 104}\n",
      "Best score: 0.5631781240317411\n"
     ]
    }
   ],
   "source": [
    "params_MLPr={\"MLPr__hidden_layer_sizes\" : list(np.arange(100,128)),\n",
    "            \"MLPr__activation\" : ['identity', 'logistic']\n",
    "} #, 'tanh', 'relu'\n",
    "\n",
    "MLPr_cv = GridSearchCV(MLPr, params_MLPr, cv =7)\n",
    "MLPr_cv = MLPr_cv.fit (X_train, y_train)\n",
    "\n",
    "print(\"Best Parameters: {}\".format(MLPr_cv.best_params_))\n",
    "print(\"Best score: {}\".format(MLPr_cv.best_score_))"
   ]
  },
  {
   "cell_type": "code",
   "execution_count": 107,
   "metadata": {
    "ExecuteTime": {
     "end_time": "2022-06-22T22:53:11.644104Z",
     "start_time": "2022-06-22T22:52:44.989724Z"
    },
    "code_folding": []
   },
   "outputs": [
    {
     "name": "stdout",
     "output_type": "stream",
     "text": [
      "[0.8786467338153309, 0.7066489696602946, 0.4091198671056918]\n"
     ]
    }
   ],
   "source": [
    "MLPr_max = Pipeline(steps=[('prepa',preprocessor),('MLPr',MLPRegressor(hidden_layer_sizes = 104, activation = 'logistic', \n",
    "                                                                          random_state=0,max_iter=10000))])\n",
    "\n",
    "score = cross_validate(MLPr_max,X_log,y,cv=7,scoring=('neg_root_mean_squared_error','neg_mean_absolute_error','r2'))\n",
    "rmse_MLPr = -score['test_neg_root_mean_squared_error'].mean()\n",
    "r2_MLPr = score['test_r2'].mean()\n",
    "msa_MLPr = -score['test_neg_mean_absolute_error'].mean()\n",
    "\n",
    "result_MLPr = [rmse_MLPr,msa_MLPr,r2_MLPr]\n",
    "print(result_MLPr) \n",
    "# 81       0.4013"
   ]
  },
  {
   "cell_type": "markdown",
   "metadata": {
    "heading_collapsed": true
   },
   "source": [
    "### Comparaison des modèles"
   ]
  },
  {
   "cell_type": "code",
   "execution_count": 108,
   "metadata": {
    "ExecuteTime": {
     "end_time": "2022-06-22T22:54:24.633015Z",
     "start_time": "2022-06-22T22:54:24.609098Z"
    },
    "hidden": true
   },
   "outputs": [],
   "source": [
    "analyse_un_log2 = analyse_un_log.copy().drop('dummy')"
   ]
  },
  {
   "cell_type": "code",
   "execution_count": 109,
   "metadata": {
    "ExecuteTime": {
     "end_time": "2022-06-22T22:54:27.449361Z",
     "start_time": "2022-06-22T22:54:27.433416Z"
    },
    "hidden": true
   },
   "outputs": [],
   "source": [
    "analyse_opt = pd.DataFrame([result_knn, result_forest, result_ada,result_MLPr],columns = ['RMSE','MAE','R2'],\n",
    "                           index = ['KNN','forest','adaboost','Multi Layer Perceptron'])"
   ]
  },
  {
   "cell_type": "code",
   "execution_count": 110,
   "metadata": {
    "ExecuteTime": {
     "end_time": "2022-06-22T22:54:30.369758Z",
     "start_time": "2022-06-22T22:54:30.353759Z"
    },
    "hidden": true
   },
   "outputs": [
    {
     "data": {
      "text/html": [
       "<div>\n",
       "<style scoped>\n",
       "    .dataframe tbody tr th:only-of-type {\n",
       "        vertical-align: middle;\n",
       "    }\n",
       "\n",
       "    .dataframe tbody tr th {\n",
       "        vertical-align: top;\n",
       "    }\n",
       "\n",
       "    .dataframe thead th {\n",
       "        text-align: right;\n",
       "    }\n",
       "</style>\n",
       "<table border=\"1\" class=\"dataframe\">\n",
       "  <thead>\n",
       "    <tr style=\"text-align: right;\">\n",
       "      <th></th>\n",
       "      <th>RMSE</th>\n",
       "      <th>MAE</th>\n",
       "      <th>R2</th>\n",
       "    </tr>\n",
       "  </thead>\n",
       "  <tbody>\n",
       "    <tr>\n",
       "      <th>KNN</th>\n",
       "      <td>1.029463</td>\n",
       "      <td>0.815951</td>\n",
       "      <td>0.217353</td>\n",
       "    </tr>\n",
       "    <tr>\n",
       "      <th>forest</th>\n",
       "      <td>0.884420</td>\n",
       "      <td>0.698930</td>\n",
       "      <td>0.404816</td>\n",
       "    </tr>\n",
       "    <tr>\n",
       "      <th>adaboost</th>\n",
       "      <td>0.987216</td>\n",
       "      <td>0.816907</td>\n",
       "      <td>0.287614</td>\n",
       "    </tr>\n",
       "    <tr>\n",
       "      <th>Multi Layer Perceptron</th>\n",
       "      <td>0.878647</td>\n",
       "      <td>0.706649</td>\n",
       "      <td>0.409120</td>\n",
       "    </tr>\n",
       "  </tbody>\n",
       "</table>\n",
       "</div>"
      ],
      "text/plain": [
       "                            RMSE       MAE        R2\n",
       "KNN                     1.029463  0.815951  0.217353\n",
       "forest                  0.884420  0.698930  0.404816\n",
       "adaboost                0.987216  0.816907  0.287614\n",
       "Multi Layer Perceptron  0.878647  0.706649  0.409120"
      ]
     },
     "execution_count": 110,
     "metadata": {},
     "output_type": "execute_result"
    }
   ],
   "source": [
    "analyse_opt"
   ]
  },
  {
   "cell_type": "code",
   "execution_count": 111,
   "metadata": {
    "ExecuteTime": {
     "end_time": "2022-06-22T22:54:47.542622Z",
     "start_time": "2022-06-22T22:54:47.230623Z"
    },
    "hidden": true
   },
   "outputs": [
    {
     "data": {
      "image/png": "[encoded data removed]",
      "text/plain": [
       "<Figure size 432x288 with 1 Axes>"
      ]
     },
     "metadata": {
      "needs_background": "light"
     },
     "output_type": "display_data"
    },
    {
     "data": {
      "image/png": "[encoded data removed]",
      "text/plain": [
       "<Figure size 432x288 with 1 Axes>"
      ]
     },
     "metadata": {
      "needs_background": "light"
     },
     "output_type": "display_data"
    },
    {
     "data": {
      "image/png": "[encoded data removed]",
      "text/plain": [
       "<Figure size 432x288 with 1 Axes>"
      ]
     },
     "metadata": {
      "needs_background": "light"
     },
     "output_type": "display_data"
    }
   ],
   "source": [
    "for i in analyse_un_log2.columns :\n",
    "    plot_metrics2 (analyse_un_log2,analyse_opt,i)"
   ]
  },
  {
   "cell_type": "markdown",
   "metadata": {
    "ExecuteTime": {
     "end_time": "2022-06-03T15:27:52.599400Z",
     "start_time": "2022-06-03T14:24:15.924Z"
    }
   },
   "source": [
    "## Modèle choisi : Multi Layer Perceptron"
   ]
  },
  {
   "cell_type": "markdown",
   "metadata": {
    "ExecuteTime": {
     "end_time": "2022-06-09T17:06:57.239842Z",
     "start_time": "2022-06-09T17:06:57.227840Z"
    }
   },
   "source": [
    "### Feature importance "
   ]
  },
  {
   "cell_type": "markdown",
   "metadata": {},
   "source": [
    "#### Methode 1 : Permutation Importance"
   ]
  },
  {
   "cell_type": "code",
   "execution_count": 127,
   "metadata": {
    "ExecuteTime": {
     "end_time": "2022-06-22T23:57:34.024612Z",
     "start_time": "2022-06-22T23:57:27.919550Z"
    }
   },
   "outputs": [],
   "source": [
    "MLPr_max.fit(X_train,y_train)\n",
    "\n",
    "perm_importance = permutation_importance(MLPr_max, X_test, y_test)"
   ]
  },
  {
   "cell_type": "code",
   "execution_count": 128,
   "metadata": {
    "ExecuteTime": {
     "end_time": "2022-06-22T23:57:38.081365Z",
     "start_time": "2022-06-22T23:57:36.905014Z"
    }
   },
   "outputs": [
    {
     "data": {
      "text/plain": [
       "Text(0.5, 0, 'Permutation Importance')"
      ]
     },
     "execution_count": 128,
     "metadata": {},
     "output_type": "execute_result"
    },
    {
     "data": {
      "image/png": "[encoded data removed]",
      "text/plain": [
       "<Figure size 1152x2160 with 1 Axes>"
      ]
     },
     "metadata": {
      "needs_background": "light"
     },
     "output_type": "display_data"
    }
   ],
   "source": [
    "plt.figure(figsize=(16, 30))\n",
    "plt.barh(X_train.columns, perm_importance.importances_mean)\n",
    "plt.xlabel(\"Permutation Importance\")"
   ]
  },
  {
   "cell_type": "markdown",
   "metadata": {},
   "source": [
    "### Importance de la var ENERGYSTARScore"
   ]
  },
  {
   "cell_type": "code",
   "execution_count": 77,
   "metadata": {
    "ExecuteTime": {
     "end_time": "2022-06-22T20:41:56.388869Z",
     "start_time": "2022-06-22T20:41:56.379828Z"
    }
   },
   "outputs": [],
   "source": [
    "df_fin = df_clean_log"
   ]
  },
  {
   "cell_type": "code",
   "execution_count": 78,
   "metadata": {
    "ExecuteTime": {
     "end_time": "2022-06-22T20:41:59.156487Z",
     "start_time": "2022-06-22T20:41:59.141445Z"
    }
   },
   "outputs": [],
   "source": [
    "X=df_fin.copy().drop(['ENERGYSTARScore',cible2],axis=1)\n",
    "y = df_fin[cible2]"
   ]
  },
  {
   "cell_type": "code",
   "execution_count": 79,
   "metadata": {
    "ExecuteTime": {
     "end_time": "2022-06-22T20:42:02.029473Z",
     "start_time": "2022-06-22T20:42:02.015322Z"
    }
   },
   "outputs": [],
   "source": [
    "X_train2, X_test2, y_train2, y_test2 = train_test_split(X, y,test_size=0.2,random_state=0)"
   ]
  },
  {
   "cell_type": "code",
   "execution_count": 93,
   "metadata": {
    "ExecuteTime": {
     "end_time": "2022-06-22T21:06:48.337917Z",
     "start_time": "2022-06-22T21:06:44.561371Z"
    }
   },
   "outputs": [
    {
     "data": {
      "text/html": [
       "<div>\n",
       "<style scoped>\n",
       "    .dataframe tbody tr th:only-of-type {\n",
       "        vertical-align: middle;\n",
       "    }\n",
       "\n",
       "    .dataframe tbody tr th {\n",
       "        vertical-align: top;\n",
       "    }\n",
       "\n",
       "    .dataframe thead th {\n",
       "        text-align: right;\n",
       "    }\n",
       "</style>\n",
       "<table border=\"1\" class=\"dataframe\">\n",
       "  <thead>\n",
       "    <tr style=\"text-align: right;\">\n",
       "      <th></th>\n",
       "      <th>RMSE</th>\n",
       "      <th>MAE</th>\n",
       "      <th>R2</th>\n",
       "    </tr>\n",
       "  </thead>\n",
       "  <tbody>\n",
       "    <tr>\n",
       "      <th>Sans ENERGYSTARScore</th>\n",
       "      <td>0.914181</td>\n",
       "      <td>0.739639</td>\n",
       "      <td>0.508117</td>\n",
       "    </tr>\n",
       "  </tbody>\n",
       "</table>\n",
       "</div>"
      ],
      "text/plain": [
       "                          RMSE       MAE        R2\n",
       "Sans ENERGYSTARScore  0.914181  0.739639  0.508117"
      ]
     },
     "execution_count": 93,
     "metadata": {},
     "output_type": "execute_result"
    }
   ],
   "source": [
    "MLPr_max = Pipeline(steps=[('prepa',preprocessor),('MLPr',MLPRegressor(hidden_layer_sizes =105, activation = 'logistic', \n",
    "                                                                          random_state=0,max_iter = 10000 ))]) #109\n",
    "\n",
    "MLPr_max = MLPr_max.fit (X_train2, y_train2)\n",
    "y_pred = MLPr_max.predict(X_test2)\n",
    "\n",
    "MLPr_max.score(X_test2, y_test2)\n",
    "\n",
    "ls_m = np.array([mean_squared_error(y_test2, y_pred, squared=False),\n",
    "mean_absolute_error(y_test2, y_pred),\n",
    "r2_score(y_test2, y_pred)])\n",
    "\n",
    "df_sansES = pd.DataFrame(ls_m,index=['RMSE','MAE','R2'],columns=['Sans ENERGYSTARScore']).T\n",
    "df_sansES"
   ]
  },
  {
   "cell_type": "code",
   "execution_count": 81,
   "metadata": {
    "ExecuteTime": {
     "end_time": "2022-06-22T20:42:14.914297Z",
     "start_time": "2022-06-22T20:42:14.804618Z"
    }
   },
   "outputs": [
    {
     "data": {
      "text/plain": [
       "<matplotlib.collections.PathCollection at 0x27c3782d910>"
      ]
     },
     "execution_count": 81,
     "metadata": {},
     "output_type": "execute_result"
    },
    {
     "data": {
      "image/png": "[encoded data removed]",
      "text/plain": [
       "<Figure size 432x288 with 1 Axes>"
      ]
     },
     "metadata": {
      "needs_background": "light"
     },
     "output_type": "display_data"
    }
   ],
   "source": [
    "plt.scatter(y_test2, y_pred, color='coral')"
   ]
  },
  {
   "cell_type": "markdown",
   "metadata": {
    "ExecuteTime": {
     "end_time": "2022-06-09T17:20:24.217544Z",
     "start_time": "2022-06-09T17:20:24.203545Z"
    }
   },
   "source": [
    "**Avec Energy Score**"
   ]
  },
  {
   "cell_type": "code",
   "execution_count": 94,
   "metadata": {
    "ExecuteTime": {
     "end_time": "2022-06-22T21:06:53.271097Z",
     "start_time": "2022-06-22T21:06:53.247052Z"
    }
   },
   "outputs": [],
   "source": [
    "df_fin2= df_clean_log\n",
    "\n",
    "X2=df_fin2.copy().drop([cible2],axis=1)\n",
    "X2=X2[X2['ENERGYSTARScore']>0]"
   ]
  },
  {
   "cell_type": "code",
   "execution_count": 95,
   "metadata": {
    "ExecuteTime": {
     "end_time": "2022-06-22T21:06:56.136210Z",
     "start_time": "2022-06-22T21:06:56.120163Z"
    }
   },
   "outputs": [],
   "source": [
    "X_train2b, X_test2b, y_train2b, y_test2b = train_test_split(X2, y,test_size=0.2,random_state=0)"
   ]
  },
  {
   "cell_type": "code",
   "execution_count": 101,
   "metadata": {
    "ExecuteTime": {
     "end_time": "2022-06-22T22:28:42.805959Z",
     "start_time": "2022-06-22T22:28:38.840707Z"
    }
   },
   "outputs": [
    {
     "data": {
      "text/html": [
       "<div>\n",
       "<style scoped>\n",
       "    .dataframe tbody tr th:only-of-type {\n",
       "        vertical-align: middle;\n",
       "    }\n",
       "\n",
       "    .dataframe tbody tr th {\n",
       "        vertical-align: top;\n",
       "    }\n",
       "\n",
       "    .dataframe thead th {\n",
       "        text-align: right;\n",
       "    }\n",
       "</style>\n",
       "<table border=\"1\" class=\"dataframe\">\n",
       "  <thead>\n",
       "    <tr style=\"text-align: right;\">\n",
       "      <th></th>\n",
       "      <th>RMSE</th>\n",
       "      <th>MAE</th>\n",
       "      <th>R2</th>\n",
       "    </tr>\n",
       "  </thead>\n",
       "  <tbody>\n",
       "    <tr>\n",
       "      <th>Avec ENERGYSTARScore</th>\n",
       "      <td>0.859981</td>\n",
       "      <td>0.689064</td>\n",
       "      <td>0.564713</td>\n",
       "    </tr>\n",
       "  </tbody>\n",
       "</table>\n",
       "</div>"
      ],
      "text/plain": [
       "                          RMSE       MAE        R2\n",
       "Avec ENERGYSTARScore  0.859981  0.689064  0.564713"
      ]
     },
     "execution_count": 101,
     "metadata": {},
     "output_type": "execute_result"
    }
   ],
   "source": [
    "MLPr_max = Pipeline(steps=[('prepa',preprocessor),('MLPr',MLPRegressor(hidden_layer_sizes =105, activation = 'logistic', \n",
    "                                                                          random_state=0,max_iter = 10000 ))]) #119\n",
    "\n",
    "MLPr_max = MLPr_max.fit (X_train2b, y_train2b)\n",
    "y_pred = MLPr_max.predict(X_test2b)\n",
    "\n",
    "MLPr_max.score(X_test2b, y_test2b)\n",
    "\n",
    "ls_m = np.array([mean_squared_error(y_test2b, y_pred, squared=False),\n",
    "mean_absolute_error(y_test2b, y_pred),\n",
    "r2_score(y_test2b, y_pred)])\n",
    "\n",
    "df_avecES = pd.DataFrame(ls_m,index=['RMSE','MAE','R2'],columns=['Avec ENERGYSTARScore']).T\n",
    "df_avecES"
   ]
  },
  {
   "cell_type": "code",
   "execution_count": 97,
   "metadata": {
    "ExecuteTime": {
     "end_time": "2022-06-22T21:07:05.457076Z",
     "start_time": "2022-06-22T21:07:05.361088Z"
    }
   },
   "outputs": [
    {
     "data": {
      "image/png": "[encoded data removed]",
      "text/plain": [
       "<Figure size 432x288 with 1 Axes>"
      ]
     },
     "metadata": {
      "needs_background": "light"
     },
     "output_type": "display_data"
    }
   ],
   "source": [
    "plot_metrics3(df_sansES,df_avecES)"
   ]
  },
  {
   "cell_type": "code",
   "execution_count": 72,
   "metadata": {
    "ExecuteTime": {
     "end_time": "2022-06-22T19:02:31.625349Z",
     "start_time": "2022-06-22T19:02:31.526792Z"
    }
   },
   "outputs": [
    {
     "data": {
      "text/plain": [
       "<matplotlib.collections.PathCollection at 0x27c37808130>"
      ]
     },
     "execution_count": 72,
     "metadata": {},
     "output_type": "execute_result"
    },
    {
     "data": {
      "image/png": "[encoded data removed]",
      "text/plain": [
       "<Figure size 432x288 with 1 Axes>"
      ]
     },
     "metadata": {
      "needs_background": "light"
     },
     "output_type": "display_data"
    }
   ],
   "source": [
    "plt.scatter(y_test2b, y_pred, color='coral')"
   ]
  },
  {
   "cell_type": "code",
   "execution_count": 106,
   "metadata": {
    "ExecuteTime": {
     "end_time": "2022-06-22T22:52:42.205766Z",
     "start_time": "2022-06-22T22:48:44.197441Z"
    }
   },
   "outputs": [
    {
     "name": "stdout",
     "output_type": "stream",
     "text": [
      "[ 77 155 233 311 389 467 545 623 701 779]\n"
     ]
    },
    {
     "data": {
      "text/plain": [
       "<matplotlib.legend.Legend at 0x27c3c3dabe0>"
      ]
     },
     "execution_count": 106,
     "metadata": {},
     "output_type": "execute_result"
    },
    {
     "data": {
      "image/png": "[encoded data removed]",
      "text/plain": [
       "<Figure size 432x288 with 1 Axes>"
      ]
     },
     "metadata": {
      "needs_background": "light"
     },
     "output_type": "display_data"
    }
   ],
   "source": [
    "from sklearn.model_selection import learning_curve\n",
    "MLPr_max = Pipeline(steps=[('prepa',preprocessor),('MLPr',MLPRegressor(hidden_layer_sizes =109, activation = 'logistic', \n",
    "                                                                          random_state=0,max_iter = 10000 ))])\n",
    "\n",
    "N, train_score, val_score = learning_curve(MLPr_max, X_train2b, y_train2b,\n",
    "                                           train_sizes=np.linspace(0.1, 1, 10), cv=12)\n",
    "\n",
    "print(N)\n",
    "plt.plot(N, train_score.mean(axis=1), label='train')\n",
    "plt.plot(N, val_score.mean(axis=1), label='validation')\n",
    "plt.xlabel('train_sizes')\n",
    "plt.title('Courbe Apprentissage de TotalGHGEmission (Modele : Multi Layer Percepetron)')\n",
    "plt.legend()"
   ]
  },
  {
   "cell_type": "code",
   "execution_count": null,
   "metadata": {},
   "outputs": [],
   "source": []
  }
 ],
 "metadata": {
  "kernelspec": {
   "display_name": "Python 3",
   "language": "python",
   "name": "python3"
  },
  "language_info": {
   "codemirror_mode": {
    "name": "ipython",
    "version": 3
   },
   "file_extension": ".py",
   "mimetype": "text/x-python",
   "name": "python",
   "nbconvert_exporter": "python",
   "pygments_lexer": "ipython3",
   "version": "3.8.5"
  },
  "varInspector": {
   "cols": {
    "lenName": 16,
    "lenType": 16,
    "lenVar": 40
   },
   "kernels_config": {
    "python": {
     "delete_cmd_postfix": "",
     "delete_cmd_prefix": "del ",
     "library": "var_list.py",
     "varRefreshCmd": "print(var_dic_list())"
    },
    "r": {
     "delete_cmd_postfix": ") ",
     "delete_cmd_prefix": "rm(",
     "library": "var_list.r",
     "varRefreshCmd": "cat(var_dic_list()) "
    }
   },
   "types_to_exclude": [
    "module",
    "function",
    "builtin_function_or_method",
    "instance",
    "_Feature"
   ],
   "window_display": false
  }
 },
 "nbformat": 4,
 "nbformat_minor": 4
}
